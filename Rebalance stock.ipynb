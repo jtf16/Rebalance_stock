{
 "cells": [
  {
   "cell_type": "code",
   "execution_count": 1,
   "metadata": {},
   "outputs": [
    {
     "name": "stdout",
     "output_type": "stream",
     "text": [
      "Requirement already satisfied: xlrd in /opt/anaconda3/lib/python3.7/site-packages (1.2.0)\r\n"
     ]
    }
   ],
   "source": [
    "import pandas as pd\n",
    "import sys\n",
    "import glob\n",
    "import datetime\n",
    "from pathlib import Path\n",
    "!{sys.executable} -m pip install xlrd"
   ]
  },
  {
   "cell_type": "code",
   "execution_count": 2,
   "metadata": {},
   "outputs": [],
   "source": [
    "def create_dataframe(file):\n",
    "    \"\"\"\n",
    "    Create a DataFrame from the data on the given source.\n",
    "\n",
    "    Parameters\n",
    "    ----------\n",
    "        file : Path to the file where the data is.\n",
    "\n",
    "    Returns\n",
    "    -------\n",
    "        data: DataFrame for the given stock\n",
    "\n",
    "    \"\"\"\n",
    "    \n",
    "    data = pd.read_csv(file)\n",
    "    data['Date'] = pd.to_datetime(data['Date'])\n",
    "    data.set_index('Date')\n",
    "    return data"
   ]
  },
  {
   "cell_type": "code",
   "execution_count": 3,
   "metadata": {},
   "outputs": [],
   "source": [
    "def to_datetime(date):\n",
    "    return datetime.datetime.strptime(date, '%Y-%m-%d')\n",
    "\n",
    "def period_end_date(n_days, date):\n",
    "    a_date = to_datetime(date)\n",
    "    days = datetime.timedelta(n_days)\n",
    "    return (a_date + days).strftime('%Y-%m-%d')"
   ]
  },
  {
   "cell_type": "code",
   "execution_count": 4,
   "metadata": {},
   "outputs": [],
   "source": [
    "def get_mask(data, start, period):\n",
    "    \"\"\"\n",
    "    Gets the mask from a given startig date and a calculated end date (based on the start and period)\n",
    "\n",
    "    Parameters\n",
    "    ----------\n",
    "        start : Starting date\n",
    "        period : The number of days that want the mask to comprise\n",
    "\n",
    "    Returns\n",
    "    -------\n",
    "        mask: The mask between start and start+period\n",
    "\n",
    "    \"\"\"\n",
    "    \n",
    "    end = period_end_date(period, start)\n",
    "    return (data['Date'] > start) & (data['Date'] <= end)"
   ]
  },
  {
   "cell_type": "code",
   "execution_count": 5,
   "metadata": {},
   "outputs": [],
   "source": [
    "def comission_formula(total, current_stock_val, stock_threshold, fixed_commission, dynamic_commission):\n",
    "    \"\"\"\n",
    "    Perform rebalance of stock based on given parameters\n",
    "\n",
    "    Parameters\n",
    "    ----------\n",
    "        total : The total amount available for the stock\n",
    "        current_stock_val : The amount that is already allocated to the stock\n",
    "        stock_threshold : part of the available cash the will be in the stock, values between 0 and 1\n",
    "        fixed_commission : fixed commission paid on a given transaction\n",
    "        dynamic_commission : percentage of the money in the transaction that will be charged as commission\n",
    "\n",
    "    Returns\n",
    "    -------\n",
    "        stock_val: New stock portfolio value after transaction\n",
    "        cash_val: Final value when rebalance is applied\n",
    "        commission_val: Amount paid as commission for this transaction\n",
    "\n",
    "    \"\"\"\n",
    "    \n",
    "    # If current stock value is higher than future value\n",
    "    val1 = (total-fixed_commission+current_stock_val*dynamic_commission)/((1/stock_threshold) + dynamic_commission)\n",
    "    # If current stock value is lower than future value\n",
    "    val2 = (total-fixed_commission-current_stock_val*dynamic_commission)/((1/stock_threshold) - dynamic_commission)\n",
    "    \n",
    "    stock_val = val1 if (val1-current_stock_val) > 0 else val2\n",
    "    commission_val = fixed_commission + dynamic_commission*abs(stock_val - current_stock_val)\n",
    "    cash_val = total - stock_val - commission_val\n",
    "    return stock_val, cash_val, commission_val\n",
    "\n",
    "def rebalance(initial_cash, stock_threshold, up_trade, low_trade, fixed_commission, dynamic_commission, prices):\n",
    "    \"\"\"\n",
    "    Perform rebalance of stock based on given parameters\n",
    "\n",
    "    Parameters\n",
    "    ----------\n",
    "        initial_cash : The initial amount available for the stock\n",
    "        stock_threshold : part of the available cash the will be in the stock, values between 0 and 1\n",
    "        up_trade : upward momentum needed between adjusted stock and cash values to make the transacrion\n",
    "        low_trade : downward momentum needed between adjusted stock and cash values to make the transacrion\n",
    "        fixed_commission : fixed commission paid on a given transaction\n",
    "        dynamic_commission : percentage of the money in the transaction that will be charged as commission\n",
    "        prices : dataframe containing the prices for a given period\n",
    "\n",
    "    Returns\n",
    "    -------\n",
    "        long: The value that would be obtained if we took a long position on a stock\n",
    "        total: Final value when rebalance is applied\n",
    "        count: Number of transactions executed\n",
    "\n",
    "    \"\"\"\n",
    "    \n",
    "    cash_threshold = 1 - stock_threshold\n",
    "    \n",
    "    total = initial_cash\n",
    "    stock_val, cash_val, commission_val = comission_formula(total, 0, stock_threshold, fixed_commission, dynamic_commission)\n",
    "    \n",
    "    long_shares = initial_cash if prices.empty else initial_cash/prices.iloc[0]\n",
    "    rebalance_shares = initial_cash if prices.empty else stock_val/prices.iloc[0]\n",
    "    \n",
    "    count = 0 if prices.empty else 1\n",
    "    price = 1\n",
    "    \n",
    "    for price in prices:\n",
    "        stock_val = price * rebalance_shares\n",
    "        total = stock_val + cash_val\n",
    "        \n",
    "        # Check how far apart are the balances from rebalanced portfolio\n",
    "        if (stock_val*cash_threshold)/(cash_val*stock_threshold) > 1+up_trade or \\\n",
    "        (stock_val*cash_threshold)/(cash_val*stock_threshold) < 1-low_trade:\n",
    "            stock_val, cash_val, commission_val = comission_formula(\n",
    "                total, stock_val, stock_threshold, fixed_commission, dynamic_commission)\n",
    "            rebalance_shares = stock_val/price\n",
    "            count += 1\n",
    "    \n",
    "    return long_shares*price, total, count"
   ]
  },
  {
   "cell_type": "code",
   "execution_count": 6,
   "metadata": {},
   "outputs": [],
   "source": [
    "def rebalance_result(file, start, period, investment, stock_threshold, up_trade,\n",
    "                     low_trade, fixed_commission, dynamic_commission):\n",
    "    \"\"\"\n",
    "    Perform rebalance of stock based on given parameters\n",
    "\n",
    "    Parameters\n",
    "    ----------\n",
    "        file : file containing the data\n",
    "        start : Starting date of your analysis\n",
    "        period : The offset number of days that want to comprise\n",
    "        investment : The initial amount available for the stock\n",
    "        stock_threshold : part of the available cash the will be in the stock, values between 0 and 1\n",
    "        up_trade : upward momentum needed between adjusted stock and cash values to make the transacrion\n",
    "        low_trade : downward momentum needed between adjusted stock and cash values to make the transacrion\n",
    "        fixed_commission : fixed commission paid on a given transaction\n",
    "        dynamic_commission : percentage of the money in the transaction that will be charged as commission\n",
    "        prices : dataframe containing the prices for a given period\n",
    "\n",
    "    Returns\n",
    "    -------\n",
    "        long: The value that would be obtained if we took a long position on a stock\n",
    "        total: Final value when rebalance is applied\n",
    "        count: Number of transactions executed\n",
    "\n",
    "    \"\"\"\n",
    "    data = create_dataframe(file)\n",
    "    filtered_data = data.loc[get_mask(data, start, period)]\n",
    "    close = filtered_data['Adj Close']\n",
    "    return rebalance(investment, stock_threshold, up_trade, low_trade, fixed_commission, dynamic_commission, close)\n",
    "    "
   ]
  },
  {
   "cell_type": "code",
   "execution_count": 7,
   "metadata": {},
   "outputs": [],
   "source": [
    "def print_result(investment, l_val, r_val, c):\n",
    "    l_change = (l_val/investment-1)*100\n",
    "    r_change = (r_val/investment-1)*100\n",
    "    print(\"Investment: %5.2f$, \\nLong value: %5.2f$ change: %5.2f%%, \\nRebalance value: %5.2f$ change: %5.2f%%, \\nNum transactions: %d\" % \n",
    "          (investment, l_val, l_change, r_val, r_change, c))"
   ]
  },
  {
   "cell_type": "code",
   "execution_count": 8,
   "metadata": {
    "scrolled": false
   },
   "outputs": [],
   "source": [
    "# Parameters to determine the period to analyse\n",
    "start = '2015-01-01'\n",
    "period = 2000\n",
    "\n",
    "# Investment parameters\n",
    "investment = 200\n",
    "stock_threshold = 0.5\n",
    "up_trade = 0.0\n",
    "low_trade = 0.0\n",
    "fixed_commission = 0.0\n",
    "dynamic_commission = 0"
   ]
  },
  {
   "cell_type": "code",
   "execution_count": 9,
   "metadata": {},
   "outputs": [
    {
     "name": "stdout",
     "output_type": "stream",
     "text": [
      "AAPL\n",
      "Investment: 200.00$, \n",
      "Long value: 521.66$ change: 160.83%, \n",
      "Rebalance value: 340.17$ change: 70.09%, \n",
      "Num transactions: 1257\n"
     ]
    }
   ],
   "source": [
    "\"\"\"\n",
    "Calculate the final values of the rebalanced and long position for a single stock.\n",
    "\"\"\"\n",
    "paths = glob.glob(\"**/AAPL.csv\", recursive=True)\n",
    "if paths:\n",
    "    stock_file = paths[0]\n",
    "    print(Path(stock_file).stem)\n",
    "    l_val, r_val, c = rebalance_result(stock_file, start, period, investment, stock_threshold, \n",
    "                             up_trade, low_trade, fixed_commission, dynamic_commission)\n",
    "    print_result(investment, l_val, r_val, c)\n",
    "else:\n",
    "    print(\"No data for this stock\")"
   ]
  },
  {
   "cell_type": "code",
   "execution_count": 10,
   "metadata": {},
   "outputs": [
    {
     "name": "stdout",
     "output_type": "stream",
     "text": [
      "Investment: 5200.00$, \n",
      "Long value: 15024.68$ change: 188.94%, \n",
      "Rebalance value: 8107.09$ change: 55.91%, \n",
      "Num transactions: 29743\n"
     ]
    }
   ],
   "source": [
    "total = 0\n",
    "port_long = 0\n",
    "port_rebal = 0\n",
    "port_transactions = 0\n",
    "\n",
    "\"\"\"\n",
    "Loop through the data files and calculate the final values of the rebalanced portfolio and \n",
    "the long position portfolio.\n",
    "\"\"\"\n",
    "for file in glob.glob(\"Portfolio/*.csv\", recursive=True):\n",
    "    l_val, r_val, c = rebalance_result(file, start, period, investment, stock_threshold, \n",
    "                             up_trade, low_trade, fixed_commission, dynamic_commission)\n",
    "    total += investment\n",
    "    port_long += l_val\n",
    "    port_rebal += r_val\n",
    "    port_transactions += c\n",
    "\n",
    "print_result(total, port_long, port_rebal, port_transactions)"
   ]
  },
  {
   "cell_type": "code",
   "execution_count": 11,
   "metadata": {},
   "outputs": [
    {
     "name": "stdout",
     "output_type": "stream",
     "text": [
      "RUSSELL2000\n",
      "Investment: 200.00$, \n",
      "Long value: 198.97$ change: -0.51%, \n",
      "Rebalance value: 206.21$ change:  3.10%, \n",
      "Num transactions: 1258\n",
      "NASDAQ\n",
      "Investment: 200.00$, \n",
      "Long value: 354.33$ change: 77.16%, \n",
      "Rebalance value: 273.63$ change: 36.81%, \n",
      "Num transactions: 1259\n",
      "DJIA\n",
      "Investment: 200.00$, \n",
      "Long value: 258.59$ change: 29.29%, \n",
      "Rebalance value: 233.03$ change: 16.51%, \n",
      "Num transactions: 1258\n",
      "S&P500\n",
      "Investment: 200.00$, \n",
      "Long value: 268.76$ change: 34.38%, \n",
      "Rebalance value: 237.16$ change: 18.58%, \n",
      "Num transactions: 1258\n"
     ]
    }
   ],
   "source": [
    "\"\"\"\n",
    "Loop through the data files and calculate the final values of the rebalanced and \n",
    "the long position in the main indexes.\n",
    "\"\"\"\n",
    "for file in glob.glob(\"Index/*.csv\", recursive=True):\n",
    "    print(Path(file).stem)\n",
    "    l_val, r_val, c = rebalance_result(file, start, period, investment, stock_threshold, \n",
    "                             up_trade, low_trade, fixed_commission, dynamic_commission)\n",
    "    print_result(investment, l_val, r_val, c)"
   ]
  },
  {
   "cell_type": "code",
   "execution_count": null,
   "metadata": {},
   "outputs": [],
   "source": []
  }
 ],
 "metadata": {
  "kernelspec": {
   "display_name": "Python 3",
   "language": "python",
   "name": "python3"
  },
  "language_info": {
   "codemirror_mode": {
    "name": "ipython",
    "version": 3
   },
   "file_extension": ".py",
   "mimetype": "text/x-python",
   "name": "python",
   "nbconvert_exporter": "python",
   "pygments_lexer": "ipython3",
   "version": "3.7.7"
  }
 },
 "nbformat": 4,
 "nbformat_minor": 4
}
